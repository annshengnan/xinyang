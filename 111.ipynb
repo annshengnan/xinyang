{
 "cells": [
  {
   "cell_type": "code",
   "execution_count": null,
   "source": [],
   "outputs": [],
   "metadata": {}
  },
  {
   "cell_type": "code",
   "execution_count": 4,
   "source": [
    "def hoslink(url):\r\n",
    "    import requests\r\n",
    "    import lxml\r\n",
    "    from bs4 import BeautifulSoup\r\n",
    "\r\n",
    "    res = requests.get(url, verify=True)\r\n",
    "    res.raise_for_status()\r\n",
    "    soup = BeautifulSoup(res.text, 'html')\r\n",
    "\r\n",
    "    links = soup.find_all('li', attrs = {'class': 'filter_item'})\r\n",
    "    link_list = []\r\n",
    "    for i in links:\r\n",
    "        link = i['data-hosp']\r\n",
    "        link_list.append('https://www.soyoung.com/hospital/' + link)\r\n",
    "    return link_list"
   ],
   "outputs": [],
   "metadata": {}
  },
  {
   "cell_type": "code",
   "execution_count": null,
   "source": [
    "u = 'https://y.soyoung.com/hospital/page/'\r\n",
    "\r\n",
    "for n in range(1,3):\r\n",
    "    url=u+str(n)\r\n",
    "    list += hoslink(url)\r\n",
    "\r\n",
    "print(list)"
   ],
   "outputs": [],
   "metadata": {}
  }
 ],
 "metadata": {
  "orig_nbformat": 4,
  "language_info": {
   "name": "python",
   "version": "3.8.0",
   "mimetype": "text/x-python",
   "codemirror_mode": {
    "name": "ipython",
    "version": 3
   },
   "pygments_lexer": "ipython3",
   "nbconvert_exporter": "python",
   "file_extension": ".py"
  },
  "kernelspec": {
   "name": "python3",
   "display_name": "Python 3.8.0 64-bit"
  },
  "interpreter": {
   "hash": "849534c005cb8882645b955213869bb67b6b3c38eb308ea405da3bad673d53ed"
  }
 },
 "nbformat": 4,
 "nbformat_minor": 2
}